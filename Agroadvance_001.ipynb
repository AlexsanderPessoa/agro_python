{
  "nbformat": 4,
  "nbformat_minor": 0,
  "metadata": {
    "colab": {
      "provenance": [],
      "collapsed_sections": [],
      "authorship_tag": "ABX9TyMqV4eRefPZIjlYUI94/46p",
      "include_colab_link": true
    },
    "kernelspec": {
      "name": "python3",
      "display_name": "Python 3"
    },
    "language_info": {
      "name": "python"
    }
  },
  "cells": [
    {
      "cell_type": "markdown",
      "metadata": {
        "id": "view-in-github",
        "colab_type": "text"
      },
      "source": [
        "<a href=\"https://colab.research.google.com/github/AlexsanderPessoa/agro_python/blob/main/Agroadvance_001.ipynb\" target=\"_parent\"><img src=\"https://colab.research.google.com/assets/colab-badge.svg\" alt=\"Open In Colab\"/></a>"
      ]
    },
    {
      "cell_type": "code",
      "source": [
        "ano = int(input('Digite o ano: '))\n",
        "if (ano%4 == 0 and ano%100!=0) or (ano%400==0):\n",
        "    print('Pode ser um ano bissexto')\n",
        "else:\n",
        "    print('Não é um ano bissexto')\n"
      ],
      "metadata": {
        "colab": {
          "base_uri": "https://localhost:8080/"
        },
        "id": "OnuGThz6VoqV",
        "outputId": "4927dd66-b921-4191-8d93-3cd73659169c"
      },
      "execution_count": null,
      "outputs": [
        {
          "output_type": "stream",
          "name": "stdout",
          "text": [
            "Digite o ano: 2024\n",
            "Pode ser um ano bissexto\n"
          ]
        }
      ]
    },
    {
      "cell_type": "code",
      "source": [
        "palavra = str(input())\n",
        "print('Soletrando')\n",
        "for caracter in palavra:\n",
        "    print(caracter)\n",
        "\n",
        "print(caracter) # a variavel caracter ficou como a ultima letra da pallavra"
      ],
      "metadata": {
        "colab": {
          "base_uri": "https://localhost:8080/"
        },
        "id": "x6hfDar_bB9q",
        "outputId": "70dc495c-042a-4434-d5fa-c2cd5949c92f"
      },
      "execution_count": null,
      "outputs": [
        {
          "output_type": "stream",
          "name": "stdout",
          "text": [
            "sono\n",
            "Soletrando\n",
            "s\n",
            "o\n",
            "n\n",
            "o\n",
            "o\n"
          ]
        }
      ]
    },
    {
      "cell_type": "code",
      "source": [
        "valor = 20000\n",
        "quant_vendas = int(input('Quantas vendas o funcionário fez? '))\n",
        "if (quant_vendas < valor):\n",
        "    print('Ela não ganha bonus')\n",
        "elif (quant_vendas > valor*2):\n",
        "    valor2 = ((quant_vendas*7)/100)\n",
        "    print('Ela ganha um bonus de 7%, o seu valor é ', valor2)\n",
        "else:\n",
        "    valor2 = ((quant_vendas*3)/100)\n",
        "    print('Ela ganha um bonus de 3%, o seu valor é ', valor2)"
      ],
      "metadata": {
        "colab": {
          "base_uri": "https://localhost:8080/"
        },
        "id": "_LHw-GDhcFQl",
        "outputId": "b5e5a7c6-0822-4172-81ec-e4e2d7f99210"
      },
      "execution_count": null,
      "outputs": [
        {
          "output_type": "stream",
          "name": "stdout",
          "text": [
            "Quantas vendas o funcionário fez? 50000\n",
            "Ela ganha um bonus de 7%, o seu valor é  3500.0\n"
          ]
        }
      ]
    },
    {
      "cell_type": "code",
      "source": [
        "tupla = (23, 'agro', 4.56, (2, 3))\n",
        "print(tupla[0])\n",
        "print(tupla[1])\n",
        "print(tupla[2])\n",
        "print(tupla[3])\n",
        "print(tupla[3][0])\n",
        "print(tupla[3][1])"
      ],
      "metadata": {
        "id": "6Gt03a_FcF-s",
        "colab": {
          "base_uri": "https://localhost:8080/"
        },
        "outputId": "a825f459-6ce6-463d-be62-97832a122c16"
      },
      "execution_count": null,
      "outputs": [
        {
          "output_type": "stream",
          "name": "stdout",
          "text": [
            "23\n",
            "agro\n",
            "4.56\n",
            "(2, 3)\n",
            "2\n",
            "3\n"
          ]
        }
      ]
    },
    {
      "cell_type": "code",
      "source": [
        "# criando uma lista vazia\n",
        "lsn = []\n",
        "#se eu printar vou verificar que a lista esta vazia\n",
        "print(lsn)\n",
        "#agora irei começar a adicionar os valores na lista, é como se eu apertasse o botão (inserir)\n",
        "# lsn.append('')\n",
        "lsn.append('')\n",
        "lsn.append(23)\n",
        "\n",
        "#agora iremos ver o que foi inserido no print\n",
        "print(lsn)"
      ],
      "metadata": {
        "id": "nFeSUI1XIcj-",
        "colab": {
          "base_uri": "https://localhost:8080/"
        },
        "outputId": "497b56f4-3153-4bd3-fbac-043a6f5d6f7d"
      },
      "execution_count": null,
      "outputs": [
        {
          "output_type": "stream",
          "name": "stdout",
          "text": [
            "[]\n",
            "['', 23]\n"
          ]
        }
      ]
    },
    {
      "cell_type": "code",
      "source": [
        "agro = ['python', 'agronegocio', 'tecnologia', 'precisao', 'sensor', 'mapeamento', 'produtividade', 'solo', 'planta', 'clima']"
      ],
      "metadata": {
        "id": "p-EuaR8irBz-"
      },
      "execution_count": null,
      "outputs": []
    },
    {
      "cell_type": "code",
      "source": [
        "agro"
      ],
      "metadata": {
        "colab": {
          "base_uri": "https://localhost:8080/"
        },
        "id": "cJNafeB2rXxW",
        "outputId": "33a12d35-be11-483b-984a-d3f5a073e9f1"
      },
      "execution_count": null,
      "outputs": [
        {
          "output_type": "execute_result",
          "data": {
            "text/plain": [
              "['python',\n",
              " 'agronegocio',\n",
              " 'tecnologia',\n",
              " 'precisao',\n",
              " 'sensor',\n",
              " 'mapeamento',\n",
              " 'produtividade',\n",
              " 'solo',\n",
              " 'planta',\n",
              " 'clima']"
            ]
          },
          "metadata": {},
          "execution_count": 4
        }
      ]
    },
    {
      "cell_type": "code",
      "source": [
        "print(agro[1:5])"
      ],
      "metadata": {
        "colab": {
          "base_uri": "https://localhost:8080/"
        },
        "id": "oE4KJlTNrX9E",
        "outputId": "2a2fe2db-497b-43ad-caf6-1dc56cb2e911"
      },
      "execution_count": null,
      "outputs": [
        {
          "output_type": "stream",
          "name": "stdout",
          "text": [
            "['agronegocio', 'tecnologia', 'precisao', 'sensor']\n"
          ]
        }
      ]
    },
    {
      "cell_type": "code",
      "source": [
        "maiores4 = []\n",
        "agro = ['python', 'agronegocio', 'tecnologia', 'precisao', 'sensor', 'mapeamento', 'produtividade', 'solo', 'planta', 'clima']\n",
        "for i in agro:\n",
        "    if len(i) > 10:\n",
        "        maiores4.append(i)\n",
        "\n",
        "print(maiores4)\n",
        "\n",
        "p_ou_s = []\n",
        "for i in agro:\n",
        "    if (i[0] == 's') or (i[0] == 'p'):\n",
        "        p_ou_s.append(i)\n",
        "\n",
        "print(p_ou_s)\n",
        "\n"
      ],
      "metadata": {
        "colab": {
          "base_uri": "https://localhost:8080/"
        },
        "id": "r8LFQvC3rYGI",
        "outputId": "519e95ea-4e96-4c1c-ac59-1bcc70a262ac"
      },
      "execution_count": null,
      "outputs": [
        {
          "output_type": "stream",
          "name": "stdout",
          "text": [
            "['agronegocio', 'produtividade']\n",
            "['python', 'precisao', 'sensor', 'produtividade', 'solo', 'planta']\n"
          ]
        }
      ]
    },
    {
      "cell_type": "code",
      "source": [
        "veiculo = {\n",
        "     'AAA0A00':['Carro', 'Fusca', 1978, 'Azul'],\n",
        "     'BBB1B11':['Carro', 'Voyage', 1985, 'Branco'],\n",
        "     'CCC2C22':['Carro','Del-rey',1984,'Dourado'],\n",
        "     'DDD3D33':['Moto','CB',1998,'Vermelha']\n",
        " }"
      ],
      "metadata": {
        "id": "aLnXzj3DrYOa"
      },
      "execution_count": null,
      "outputs": []
    },
    {
      "cell_type": "code",
      "source": [
        "veiculo['BBB1B11']"
      ],
      "metadata": {
        "colab": {
          "base_uri": "https://localhost:8080/"
        },
        "id": "pJRa-DSH15EL",
        "outputId": "faea0070-52c2-4a9f-b084-1d28ef2850d3"
      },
      "execution_count": null,
      "outputs": [
        {
          "output_type": "execute_result",
          "data": {
            "text/plain": [
              "['Carro', 'Voyage', 1985, 'Branco']"
            ]
          },
          "metadata": {},
          "execution_count": 6
        }
      ]
    },
    {
      "cell_type": "code",
      "source": [
        "veiculo[2] #não posso chamar pela posição"
      ],
      "metadata": {
        "colab": {
          "base_uri": "https://localhost:8080/",
          "height": 165
        },
        "id": "N42w8wnt28_2",
        "outputId": "c54a084e-ad7d-4eac-90c3-8ff6d2a8c876"
      },
      "execution_count": null,
      "outputs": [
        {
          "output_type": "error",
          "ename": "KeyError",
          "evalue": "ignored",
          "traceback": [
            "\u001b[0;31m---------------------------------------------------------------------------\u001b[0m",
            "\u001b[0;31mKeyError\u001b[0m                                  Traceback (most recent call last)",
            "\u001b[0;32m<ipython-input-7-1b51a92fdd1e>\u001b[0m in \u001b[0;36m<module>\u001b[0;34m\u001b[0m\n\u001b[0;32m----> 1\u001b[0;31m \u001b[0mveiculo\u001b[0m\u001b[0;34m[\u001b[0m\u001b[0;36m2\u001b[0m\u001b[0;34m]\u001b[0m\u001b[0;34m\u001b[0m\u001b[0;34m\u001b[0m\u001b[0m\n\u001b[0m",
            "\u001b[0;31mKeyError\u001b[0m: 2"
          ]
        }
      ]
    },
    {
      "cell_type": "code",
      "source": [
        "#quero modificar, nesse caso eu preciso colocar todas as variaveis? \n",
        "veiculo['DDD3D33'] = ['Moto','CB',1995,'Preta']\n",
        "\n",
        "#se eu quiser incluir algo novo, é só chamar o dicionário e colocar as especificações\n",
        "veiculo['EEE4E44'] = ['avião','desconhecido',19900,'camuflada']"
      ],
      "metadata": {
        "id": "de2eSMGA3BLf"
      },
      "execution_count": null,
      "outputs": []
    },
    {
      "cell_type": "code",
      "source": [
        "veiculo"
      ],
      "metadata": {
        "colab": {
          "base_uri": "https://localhost:8080/"
        },
        "id": "ELVWjOau3By2",
        "outputId": "e883814f-9a05-4109-e8b2-a97b6d095877"
      },
      "execution_count": null,
      "outputs": [
        {
          "output_type": "execute_result",
          "data": {
            "text/plain": [
              "{'AAA0A00': ['Carro', 'Fusca', 1978, 'Azul'],\n",
              " 'BBB1B11': ['Carro', 'Voyage', 1985, 'Branco'],\n",
              " 'CCC2C22': ['Carro', 'Del-rey', 1984, 'Dourado'],\n",
              " 'DDD3D33': ['Moto', 'CB', 1995, 'Preta'],\n",
              " 'EEE4E44': ['avião', 'desconhecido', 19900, 'camuflada']}"
            ]
          },
          "metadata": {},
          "execution_count": 12
        }
      ]
    },
    {
      "cell_type": "code",
      "source": [
        "#posso excluir \n",
        "del veiculo['BBB1B11']"
      ],
      "metadata": {
        "id": "2JuNmOAG3B6z"
      },
      "execution_count": null,
      "outputs": []
    },
    {
      "cell_type": "code",
      "source": [
        "veiculo"
      ],
      "metadata": {
        "colab": {
          "base_uri": "https://localhost:8080/"
        },
        "id": "eV6JzBea3CCj",
        "outputId": "f5a61b1f-aaa6-43e0-af5c-b72ef3331b95"
      },
      "execution_count": null,
      "outputs": [
        {
          "output_type": "execute_result",
          "data": {
            "text/plain": [
              "{'AAA0A00': ['Carro', 'Fusca', 1978, 'Azul'],\n",
              " 'CCC2C22': ['Carro', 'Del-rey', 1984, 'Dourado'],\n",
              " 'DDD3D33': ['Moto', 'CB', 1995, 'Preta'],\n",
              " 'EEE4E44': ['avião', 'desconhecido', 19900, 'camuflada']}"
            ]
          },
          "metadata": {},
          "execution_count": 14
        }
      ]
    },
    {
      "cell_type": "code",
      "source": [
        "mais_vendidos = {'tecnologia': 'iphone', 'refrigeracao': 'ar consul 12000 btu', 'livros': 'o alquimista', 'eletrodoméstico': 'geladeira', 'lazer': 'prancha surf'}\n",
        "\n",
        "vendas_tecnologia = {'iphone': 15000, 'samsung galaxy': 12000, 'tv samsung': 10000, 'ps5': 14300, 'tablet': 1720, 'ipad': 1000, 'tv philco': 2500, 'notebook hp': 1000, 'notebook dell': 17000, 'notebook asus': 2450}"
      ],
      "metadata": {
        "id": "QxnuYWnz3CMn"
      },
      "execution_count": null,
      "outputs": []
    },
    {
      "cell_type": "code",
      "source": [
        "mais_vendidos['livros']"
      ],
      "metadata": {
        "colab": {
          "base_uri": "https://localhost:8080/",
          "height": 35
        },
        "id": "gM24yZos3CVJ",
        "outputId": "f2a98a46-f687-4ed1-ccfb-d3e4cd16ec3a"
      },
      "execution_count": null,
      "outputs": [
        {
          "output_type": "execute_result",
          "data": {
            "text/plain": [
              "'o alquimista'"
            ],
            "application/vnd.google.colaboratory.intrinsic+json": {
              "type": "string"
            }
          },
          "metadata": {},
          "execution_count": 20
        }
      ]
    },
    {
      "cell_type": "code",
      "source": [
        "mais_vendidos['lazer']"
      ],
      "metadata": {
        "colab": {
          "base_uri": "https://localhost:8080/",
          "height": 35
        },
        "id": "IJdnNNRp6AFu",
        "outputId": "a24ffebf-335b-45f7-b917-751d857680bc"
      },
      "execution_count": null,
      "outputs": [
        {
          "output_type": "execute_result",
          "data": {
            "text/plain": [
              "'prancha surf'"
            ],
            "application/vnd.google.colaboratory.intrinsic+json": {
              "type": "string"
            }
          },
          "metadata": {},
          "execution_count": 21
        }
      ]
    },
    {
      "cell_type": "code",
      "source": [
        "vendas_tecnologia['notebook asus']"
      ],
      "metadata": {
        "colab": {
          "base_uri": "https://localhost:8080/"
        },
        "id": "29oEEtdA6ARm",
        "outputId": "4296528b-cdfd-438b-b1a9-62ec5b7344a2"
      },
      "execution_count": null,
      "outputs": [
        {
          "output_type": "execute_result",
          "data": {
            "text/plain": [
              "2450"
            ]
          },
          "metadata": {},
          "execution_count": 22
        }
      ]
    },
    {
      "cell_type": "code",
      "source": [
        "vendas_tecnologia['ipad']"
      ],
      "metadata": {
        "colab": {
          "base_uri": "https://localhost:8080/"
        },
        "id": "Y2-bfNqn6Aad",
        "outputId": "81fd78e9-041f-42b8-c5fd-bc5ada226163"
      },
      "execution_count": null,
      "outputs": [
        {
          "output_type": "execute_result",
          "data": {
            "text/plain": [
              "1000"
            ]
          },
          "metadata": {},
          "execution_count": 23
        }
      ]
    },
    {
      "cell_type": "code",
      "source": [
        "#jeito errado, é preferivel que se use o return\n",
        "def is_infloat(x):\n",
        "    if (type(x) == int or type(x) == float):\n",
        "        print('é um inteiro ou um float')\n",
        "    else:\n",
        "        print('não é um inteiro e nem um float')"
      ],
      "metadata": {
        "id": "AxQXL4GC6Ai-"
      },
      "execution_count": null,
      "outputs": []
    },
    {
      "cell_type": "code",
      "source": [
        "val1 = 3.0\n",
        "is_infloat(val1)\n",
        "\n",
        "val2 = 3\n",
        "is_infloat(val2)\n",
        "\n",
        "val3 = 'Agro'\n",
        "is_infloat(val3)"
      ],
      "metadata": {
        "colab": {
          "base_uri": "https://localhost:8080/"
        },
        "id": "CUvBpjFV6b1y",
        "outputId": "8a09827b-8e57-4fe1-f989-7828e1722949"
      },
      "execution_count": null,
      "outputs": [
        {
          "output_type": "stream",
          "name": "stdout",
          "text": [
            "é um inteiro ou um float\n",
            "é um inteiro ou um float\n",
            "não é um inteiro e nem um float\n"
          ]
        }
      ]
    },
    {
      "cell_type": "code",
      "source": [
        "#agora iremos usar o return\n",
        "def is_infloat_com_return(x):\n",
        "    if (type(x) == int or type(x) == float):\n",
        "        return True\n",
        "        #return 'Agro' ou seja, posso retornar o q eu quiser, nesse caso eu retornei uma string\n",
        "    else:\n",
        "        return False"
      ],
      "metadata": {
        "id": "Obhwn1_P6b9d"
      },
      "execution_count": null,
      "outputs": []
    },
    {
      "cell_type": "code",
      "source": [
        "val1 = 3.0\n",
        "print(is_infloat_com_return(val1))\n",
        "\n",
        "val2 = 3\n",
        "print(is_infloat_com_return(val2))\n",
        "\n",
        "val3 = 'Agro'\n",
        "print(is_infloat_com_return(val3))"
      ],
      "metadata": {
        "colab": {
          "base_uri": "https://localhost:8080/"
        },
        "id": "Og8sSHGc6cF5",
        "outputId": "ea98497d-e105-46dd-a6c5-a9a8a049a370"
      },
      "execution_count": null,
      "outputs": [
        {
          "output_type": "stream",
          "name": "stdout",
          "text": [
            "True\n",
            "True\n",
            "False\n"
          ]
        }
      ]
    },
    {
      "cell_type": "code",
      "source": [
        "def soma(num1, num2, num3):\n",
        "    return num1 +num2 + num3\n",
        "\n",
        "test  = soma(10,20,0)\n",
        "print(test)"
      ],
      "metadata": {
        "colab": {
          "base_uri": "https://localhost:8080/"
        },
        "id": "mows-5tg6cOF",
        "outputId": "f1c6df6a-a5b7-4cee-8db8-8b9d9af6ad5c"
      },
      "execution_count": null,
      "outputs": [
        {
          "output_type": "stream",
          "name": "stdout",
          "text": [
            "30\n"
          ]
        }
      ]
    },
    {
      "cell_type": "code",
      "source": [
        "produtos = ['beb46275','TFA23962','TFA64715','TFA69555','TFA56743','BSA45510','TFA44968','CAR75448','CAR23596','CAR13490','BEB21365','BEB31623','BSA62419','BEB73344','TFA20079','BEB80694','BSA11769','BEB19495','TFA14792','TFA78043','BSA33484','BEB97471','BEB62362','TFA27311','TFA17715','BEB85146','BEB48898','BEB79496','CAR38417','TFA19947','TFA58799','CAR94811','BSA59251','BEB15385','BEB24213','BEB56262','BSA96915','CAR53454','BEB75073']"
      ],
      "metadata": {
        "id": "Xfq2DkUN6cWG"
      },
      "execution_count": null,
      "outputs": []
    },
    {
      "cell_type": "code",
      "source": [
        "lista = []\n",
        "for i in produtos:\n",
        "    if checar(i):\n",
        "        print('Enviar {} para setor de adubos'.format(i))\n",
        "        lista.append(i)\n",
        "print(lista)\n",
        "\n",
        "def checar(adubo):\n",
        "    adubo = adubo.upper()\n",
        "    if 'BEB' in adubo:\n",
        "        return True\n",
        "    else:\n",
        "        return False\n",
        "\n",
        "\n"
      ],
      "metadata": {
        "id": "Bgysnve76cdg",
        "colab": {
          "base_uri": "https://localhost:8080/"
        },
        "outputId": "4d6d156c-dbca-49d0-f00c-5592f88af42a"
      },
      "execution_count": null,
      "outputs": [
        {
          "output_type": "stream",
          "name": "stdout",
          "text": [
            "Enviar beb46275 para setor de adubos\n",
            "Enviar BEB21365 para setor de adubos\n",
            "Enviar BEB31623 para setor de adubos\n",
            "Enviar BEB73344 para setor de adubos\n",
            "Enviar BEB80694 para setor de adubos\n",
            "Enviar BEB19495 para setor de adubos\n",
            "Enviar BEB97471 para setor de adubos\n",
            "Enviar BEB62362 para setor de adubos\n",
            "Enviar BEB85146 para setor de adubos\n",
            "Enviar BEB48898 para setor de adubos\n",
            "Enviar BEB79496 para setor de adubos\n",
            "Enviar BEB15385 para setor de adubos\n",
            "Enviar BEB24213 para setor de adubos\n",
            "Enviar BEB56262 para setor de adubos\n",
            "Enviar BEB75073 para setor de adubos\n",
            "['beb46275', 'BEB21365', 'BEB31623', 'BEB73344', 'BEB80694', 'BEB19495', 'BEB97471', 'BEB62362', 'BEB85146', 'BEB48898', 'BEB79496', 'BEB15385', 'BEB24213', 'BEB56262', 'BEB75073']\n"
          ]
        }
      ]
    }
  ]
}